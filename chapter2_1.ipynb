{
 "cells": [
  {
   "cell_type": "code",
   "execution_count": 1,
   "metadata": {},
   "outputs": [
    {
     "name": "stdout",
     "output_type": "stream",
     "text": [
      "[26, 31, 41, 41, 58, 59]\n"
     ]
    }
   ],
   "source": [
    "# 2.1-1 以图2-2为模型，说明intersection-sort在数组 A = <31, 41, 59, 26, 41, 58>上的执行过程\n",
    "\n",
    "def intersection_sort(alist):\n",
    "    for i in range(1, len(alist)):\n",
    "        key = alist[i]\n",
    "        j = i - 1\n",
    "        while j >= 0 and alist[j] > key:\n",
    "            alist[j+1] = alist[j]\n",
    "            j -= 1\n",
    "        alist[j+1] = key\n",
    "    return alist\n",
    "\n",
    "alist = [31, 41, 59, 26, 41, 58]\n",
    "print(intersection_sort(alist))\n",
    "\n",
    "\"\"\"插入排序的精髓即为插入，策略是从第一个元素开始，将key插入前面已经排好的序列，从后往前比较排好序的子集和Key的大小，\n",
    "直到找到合适位置插入，插入完成时候，排好序的子集就会增加一个元素，剩下未排序的元素就会减少一个\"\"\""
   ]
  },
  {
   "cell_type": "code",
   "execution_count": 2,
   "metadata": {},
   "outputs": [
    {
     "name": "stdout",
     "output_type": "stream",
     "text": [
      "[59, 58, 41, 41, 31, 26]\n"
     ]
    }
   ],
   "source": [
    "# 2.1-2 重写intersection_sort过程，使之按非升序排序。\n",
    "\n",
    "def intersection_sort(alist):\n",
    "    for i in range(1, len(alist)):\n",
    "        key = alist[i]\n",
    "        j = i - 1\n",
    "        while j >= 0 and alist[j] < key:\n",
    "            alist[j+1] = alist[j]\n",
    "            j -= 1\n",
    "        alist[j+1] = key\n",
    "    return alist\n",
    "\n",
    "alist = [31, 41, 59, 26, 41, 58]\n",
    "print(intersection_sort(alist))"
   ]
  },
  {
   "cell_type": "markdown",
   "metadata": {},
   "source": [
    "### 循环不变式用来理解算法的正确性\n",
    "\n",
    "- 初始化：循环的第一次迭代之前它为真\n",
    "- 保持：如果循环的某次迭代之前它为真，那么下次迭代之前它仍为真。\n",
    "- 在循环终止时，不变式为我们提供一个有用的性质，该性质有助于证明算法是正确的。"
   ]
  },
  {
   "cell_type": "code",
   "execution_count": 8,
   "metadata": {},
   "outputs": [
    {
     "name": "stdout",
     "output_type": "stream",
     "text": [
      "(3, 26)\n",
      "NIL\n"
     ]
    }
   ],
   "source": [
    "# 2.1-3 考虑一下查找问题：\n",
    "\"\"\"输入：n个数的一个序列A=<a1, a2, ....,an>和一个值v。\n",
    "\n",
    "    输出：下标i使得v=A[i]或者当v不在A中出现时，v为特殊值NIL。\n",
    "    写出线性查找伪代码，它扫描整个序列来查找v，使用一个循环不变式来证明你的算法的正确性。\n",
    "    确保你的循环不变式满足三条必要性质。\"\"\"\n",
    "\n",
    "def find(alist, v):\n",
    "    for i in range(len(alist)):\n",
    "        if alist[i] == v:\n",
    "            return i,alist[i]\n",
    "    v = 'NIL'\n",
    "    return v\n",
    "\n",
    "alist = [31, 41, 59, 26, 58]\n",
    "print(find(alist, 26))\n",
    "print(find(alist, 57))\n",
    "\n",
    "# 初始化：当i = 0时，i的大小在循环范围内。\n",
    "# 保持：当i增大时，如果继续循环，说明暂时还没有找到相应的元素\n",
    "# 终止：存在两种情况，一个是在序列中找到相应元素，另一种是遍历整个序列都没有找到相应元素"
   ]
  },
  {
   "cell_type": "code",
   "execution_count": 6,
   "metadata": {},
   "outputs": [
    {
     "name": "stdout",
     "output_type": "stream",
     "text": [
      "[2, 1, 2, 1, 2, 1, 2, 1]\n",
      "[0, 0, 0, 0, 0, 0, 0, 0, 0]\n"
     ]
    },
    {
     "data": {
      "text/plain": [
       "[1, 1, 0, 1, 0, 1, 0, 0, 1]"
      ]
     },
     "execution_count": 6,
     "metadata": {},
     "output_type": "execute_result"
    }
   ],
   "source": [
    "# 2.1-4 考虑把两个n位二进制整数加起来的问题，这两个整数分别存储在两个n元数组A和B中，这两个整数的和应按二进制形式存储在一个（n+1）元数组C中。\n",
    "\n",
    "def sum2bit(A, B):\n",
    "    C_temp = [None]*len(A) # 创建一个和A维度相同的空列表\n",
    "    for i in range(len(A)):\n",
    "        # print(len(A))\n",
    "        C_temp[i] = A[i] + B[i] # 将A和B暂时相加\n",
    "    print(C_temp)\n",
    "    C = [0]*(len(A) + 1) # 创建一个维度比A大1，元素均为0的列表\n",
    "    print(C)\n",
    "    for i in range(len(A)): # 将C中除第一个元素外的元素替换\n",
    "            C[i+1] = C_temp[i]\n",
    "    j = len(A)+1\n",
    "    while j >= 2:  # 设置逢二进一规则    \n",
    "       # print(C)\n",
    "        if C[j-1] > 1:\n",
    "            C[j-2] = C[j-2] + C[j-1]//2\n",
    "            C[j-1] = C[j-1]%2\n",
    "            j = j - 1\n",
    "        else:\n",
    "            j = j - 1\n",
    "    return C\n",
    "        \n",
    "A = [1,0,1,0,1,0,1,0]\n",
    "B = [1,1,1,1,1,1,1,1]\n",
    "sum2bit(A, B)"
   ]
  },
  {
   "cell_type": "code",
   "execution_count": null,
   "metadata": {},
   "outputs": [],
   "source": []
  },
  {
   "cell_type": "code",
   "execution_count": null,
   "metadata": {},
   "outputs": [],
   "source": []
  }
 ],
 "metadata": {
  "kernelspec": {
   "display_name": "Python 3",
   "language": "python",
   "name": "python3"
  },
  "language_info": {
   "codemirror_mode": {
    "name": "ipython",
    "version": 3
   },
   "file_extension": ".py",
   "mimetype": "text/x-python",
   "name": "python",
   "nbconvert_exporter": "python",
   "pygments_lexer": "ipython3",
   "version": "3.7.3"
  }
 },
 "nbformat": 4,
 "nbformat_minor": 2
}
